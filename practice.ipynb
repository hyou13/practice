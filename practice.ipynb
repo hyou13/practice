{
 "cells": [
  {
   "cell_type": "code",
   "execution_count": 2,
   "id": "ae8ebfbe",
   "metadata": {},
   "outputs": [
    {
     "name": "stdout",
     "output_type": "stream",
     "text": [
      "hello\n",
      "renc\n"
     ]
    }
   ],
   "source": [
    "print(\"hello\")\n",
    "print(\"renc\")"
   ]
  },
  {
   "cell_type": "code",
   "execution_count": null,
   "id": "982b01ea",
   "metadata": {},
   "outputs": [],
   "source": [
    "\n"
   ]
  }
 ],
 "metadata": {
  "kernelspec": {
   "display_name": "base",
   "language": "python",
   "name": "python3"
  },
  "language_info": {
   "codemirror_mode": {
    "name": "ipython",
    "version": 3
   },
   "file_extension": ".py",
   "mimetype": "text/x-python",
   "name": "python",
   "nbconvert_exporter": "python",
   "pygments_lexer": "ipython3",
   "version": "3.9.19"
  }
 },
 "nbformat": 4,
 "nbformat_minor": 5
}
